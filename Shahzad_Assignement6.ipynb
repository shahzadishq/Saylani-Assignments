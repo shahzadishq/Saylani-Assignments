{
 "cells": [
  {
   "cell_type": "markdown",
   "metadata": {},
   "source": [
    "# Question:1\n",
    "Define OOP Language?\n",
    "\n",
    "Ans: Object-oriented programming: As the name suggests, Object-Oriented Programming or OOPs refers to languages that uses objects in programming. Object-oriented programming aims to implement real-world entities like inheritance, hiding, polymorphism etc in programming. The main aim of OOP is to bind together the data and the functions that operate on them so that no other part of the code can access this data except that function"
   ]
  },
  {
   "cell_type": "markdown",
   "metadata": {},
   "source": [
    "# Question:2\n",
    "List down the Benefits of OOP?\n",
    "\n",
    "Ans:1. Modularity for easier troubleshooting\n",
    "    2. Reuse of code through inheritance\n",
    "    3. Flexibility through polymorphism \n",
    "    4. Effective problem solving"
   ]
  },
  {
   "cell_type": "markdown",
   "metadata": {},
   "source": [
    "# Question:3\n",
    "Differentiate between Functioon and object?\n",
    "\n",
    "Function: A function is a piece of code that is called by name. It can be passed data to operate on (i.e. the parameters) and can optionally return data (the return value). All data that is passed to a function is explicitly passed.\n",
    "\n",
    "Method:A method is a piece of code that is called by a name that is associated with an object.\n"
   ]
  },
  {
   "cell_type": "markdown",
   "metadata": {},
   "source": [
    "# Question:4\n",
    "\n",
    "Class: In object-oriented programming , a class is a template definition of the method s and variable s in a particular kind of object . Thus, an object is a specific instance of a class; it contains real values instead of variables.\n",
    "\n",
    "Object: A unique instance of a data structure that's defined by its class. An object comprises both data members (class variables and instance variables) and methods.\n",
    "\n",
    "Attribute: All classes create objects, and all objects contain characteristics called attributes (referred to as properties in the opening paragraph). Use the __init__() method to initialize (e.g., specify) an object’s initial attributes by giving them their default value (or state)\n",
    "\n",
    "Behaviour: The behavior of an object is defined by its methods, which are the functions and subroutines defined within the object class. Without class methods, a class would simply be a structure."
   ]
  },
  {
   "cell_type": "code",
   "execution_count": 13,
   "metadata": {},
   "outputs": [
    {
     "name": "stdout",
     "output_type": "stream",
     "text": [
      "mercedez\n",
      "Black\n",
      "the speed of City is 160km/h\n",
      "None\n",
      "Engine started\n",
      "None\n"
     ]
    }
   ],
   "source": [
    "#Question:5\n",
    "class car():\n",
    "    def __init__(self,name,company,model,color,speed):\n",
    "        self.name=name\n",
    "        self.company=company\n",
    "        self.color=color\n",
    "        self.speed=speed\n",
    "        self.model=model\n",
    "    def start(self):\n",
    "        print (\"Engine started\")\n",
    "\n",
    "    def stop(self):\n",
    "        print (\"Engine switched off\")\n",
    "    def car_speed(self):\n",
    "        print(\"the speed of {} is {}km/h\".format(self.name,self.speed))\n",
    "    \n",
    "car1=car(\"c200\",\"mercedez\",2008,\"Silver\",140)\n",
    "print(car1.company)\n",
    "car2=car(\"Corrola\", \"Toyota\", 2015,\"Black\",120)\n",
    "print(car2.color)\n",
    "car3=car(\"City\", \"Honda\", 2013,\"White\",160)\n",
    "print(car3.car_speed())\n",
    "car4=car(\"Mehran\",\"Suzuki\",2011,\"Red\",150)\n",
    "print(car4.start())"
   ]
  },
  {
   "cell_type": "code",
   "execution_count": null,
   "metadata": {},
   "outputs": [],
   "source": []
  }
 ],
 "metadata": {
  "kernelspec": {
   "display_name": "Python 3",
   "language": "python",
   "name": "python3"
  },
  "language_info": {
   "codemirror_mode": {
    "name": "ipython",
    "version": 3
   },
   "file_extension": ".py",
   "mimetype": "text/x-python",
   "name": "python",
   "nbconvert_exporter": "python",
   "pygments_lexer": "ipython3",
   "version": "3.7.4"
  }
 },
 "nbformat": 4,
 "nbformat_minor": 2
}
