{
 "cells": [
  {
   "cell_type": "code",
   "execution_count": 5,
   "metadata": {},
   "outputs": [
    {
     "name": "stdout",
     "output_type": "stream",
     "text": [
      "{'fname': 'Shahzad', 'lname': 'Ishaq', 'age': 25, 'city': 'karachi'}\n",
      "{'fname': 'Shahzad', 'lname': 'Ishaq', 'age': 25, 'city': 'karachi', 'qualification': 'BSCS'}\n",
      "{'fname': 'Shahzad', 'lname': 'Ishaq', 'age': 25, 'city': 'karachi'}\n"
     ]
    }
   ],
   "source": [
    "#Question:1\n",
    "friend={\"fname\":\"Shahzad\",\n",
    "       \"lname\":\"Ishaq\",\n",
    "       \"age\":25,\n",
    "       \"city\":\"karachi\",}\n",
    "print(friend)\n",
    "friend[\"qualification\"]=\"BSCS\"\n",
    "print(friend)\n",
    "del friend[\"qualification\"]\n",
    "print(friend)"
   ]
  },
  {
   "cell_type": "code",
   "execution_count": 14,
   "metadata": {},
   "outputs": [
    {
     "ename": "KeyError",
     "evalue": "0",
     "output_type": "error",
     "traceback": [
      "\u001b[1;31m---------------------------------------------------------------------------\u001b[0m",
      "\u001b[1;31mKeyError\u001b[0m                                  Traceback (most recent call last)",
      "\u001b[1;32m<ipython-input-14-89a662f8f1e6>\u001b[0m in \u001b[0;36m<module>\u001b[1;34m\u001b[0m\n\u001b[0;32m     17\u001b[0m     }\n\u001b[0;32m     18\u001b[0m }\n\u001b[1;32m---> 19\u001b[1;33m \u001b[0mprint\u001b[0m\u001b[1;33m(\u001b[0m\u001b[0mcities\u001b[0m\u001b[1;33m[\u001b[0m\u001b[1;36m0\u001b[0m\u001b[1;33m]\u001b[0m\u001b[1;33m)\u001b[0m\u001b[1;33m\u001b[0m\u001b[1;33m\u001b[0m\u001b[0m\n\u001b[0m\u001b[0;32m     20\u001b[0m \u001b[0mprint\u001b[0m\u001b[1;33m(\u001b[0m\u001b[0mcities\u001b[0m\u001b[1;33m[\u001b[0m\u001b[1;34m\"faislabad\"\u001b[0m\u001b[1;33m]\u001b[0m\u001b[1;33m)\u001b[0m\u001b[1;33m\u001b[0m\u001b[1;33m\u001b[0m\u001b[0m\n\u001b[0;32m     21\u001b[0m \u001b[0mprint\u001b[0m\u001b[1;33m(\u001b[0m\u001b[0mcities\u001b[0m\u001b[1;33m[\u001b[0m\u001b[1;34m\"lahore\"\u001b[0m\u001b[1;33m]\u001b[0m\u001b[1;33m)\u001b[0m\u001b[1;33m\u001b[0m\u001b[1;33m\u001b[0m\u001b[0m\n",
      "\u001b[1;31mKeyError\u001b[0m: 0"
     ]
    }
   ],
   "source": [
    "#Question:2\n",
    "cities={\n",
    "    \"faislabad\":{\n",
    "        \"country\":\"Pakistan\",\n",
    "        \"population\":\"3.204M\",\n",
    "        \"fact\":\"Faisalabad was designed in 1896 almost more than 100 years ago. It was named on the name of Sir Lyall.\"\n",
    "    },\n",
    "        \"multan\":{\n",
    "        \"country\":\"Pakistan\",\n",
    "        \"population\":\"1.872M\",\n",
    "        \"fact\":\"In fact, the name 'multani mitti' literally means 'mud from multan', where it was first used in skincare and cosmetics.\"\n",
    "    },\n",
    "        \"lahore\":{\n",
    "        \"country\":\"Pakistan\",\n",
    "        \"population\":\"5.72 M\",\n",
    "        \"fact\":\"Lahore is the capital city of the Pakistani province of Punjab. It is the second largest and most populous city in Pakistan\"\n",
    "    }\n",
    "}\n",
    "\n",
    "print(cities[\"faislabad\"])\n",
    "print(cities[\"lahore\"])\n",
    "print(cities[\"multan\"])"
   ]
  },
  {
   "cell_type": "code",
   "execution_count": 15,
   "metadata": {},
   "outputs": [
    {
     "name": "stdout",
     "output_type": "stream",
     "text": [
      "Enter Your Age for Movie Ticket2\n",
      "Ticket is Free\n"
     ]
    }
   ],
   "source": [
    "#Question:3\n",
    "age=int(input(\"Enter Your Age for Movie Ticket\"))\n",
    "if age<3:\n",
    "    print(\"Ticket is Free\")\n",
    "elif age>3 and age<12:\n",
    "    print(\"Your Ticket Charges are 10$\")\n",
    "elif age>12:\n",
    "    print(\"Your ticket charges are 15$\")\n",
    "else:\n",
    "    print(\"Enter Valid Age\")\n",
    "\n",
    "        "
   ]
  },
  {
   "cell_type": "code",
   "execution_count": 19,
   "metadata": {},
   "outputs": [
    {
     "name": "stdout",
     "output_type": "stream",
     "text": [
      "Cherry is my favourite book\n"
     ]
    }
   ],
   "source": [
    "#QUestion:4\n",
    "def book(title):\n",
    "    print(\"{} is my favourite book\".format(title))\n",
    "book(\"Cherry\")"
   ]
  },
  {
   "cell_type": "code",
   "execution_count": null,
   "metadata": {},
   "outputs": [],
   "source": [
    "#Question:5\n",
    "import random\n",
    "guesstaken=0\n",
    "for x in range(1):\n",
    "    number=random.randint(1, 30)\n",
    "name=input(\"Please enter your name\")\n",
    "\n",
    "print(\"Welcome \"+name+\"! we are guessing a number for you between 1 to 30\")\n",
    "\n",
    "while guesstaken<3:\n",
    "    print(\"Take a guess\")\n",
    "    guess=int(input())\n",
    "    guesstaken=guesstaken+1\n",
    "    if guess<number:\n",
    "        print(\"Your guess is too low\")\n",
    "    if guess>number:\n",
    "        print(\"Your guess is too high\")\n",
    "    if guess==number:\n",
    "        break\n",
    "if guess==number:\n",
    "    print(\"you select a best guess in\",guesstaken )\n",
    "if guess!=number:\n",
    "    print(\"The guess was \",number)\n"
   ]
  }
 ],
 "metadata": {
  "kernelspec": {
   "display_name": "Python 3",
   "language": "python",
   "name": "python3"
  },
  "language_info": {
   "codemirror_mode": {
    "name": "ipython",
    "version": 3
   },
   "file_extension": ".py",
   "mimetype": "text/x-python",
   "name": "python",
   "nbconvert_exporter": "python",
   "pygments_lexer": "ipython3",
   "version": "3.7.4"
  }
 },
 "nbformat": 4,
 "nbformat_minor": 2
}
