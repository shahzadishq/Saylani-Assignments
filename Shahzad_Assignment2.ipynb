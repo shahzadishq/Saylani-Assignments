{
 "cells": [
  {
   "cell_type": "code",
   "execution_count": 1,
   "metadata": {},
   "outputs": [
    {
     "name": "stdout",
     "output_type": "stream",
     "text": [
      "ENter the Marks of 1st Subject23\n",
      "ENter the Marks of 2nd Subject23\n",
      "ENter the Marks of 3rd Subject45\n",
      "ENter the Marks of 4th Subject33\n",
      "ENter the Marks of 5th Subject56\n",
      "Your Total Marks are 180\n",
      "Your Percentage is 36.0%\n",
      "Sorry! You are fail\n"
     ]
    }
   ],
   "source": [
    "#Question:1\n",
    "sub1=int(input(\"ENter the Marks of 1st Subject\"))\n",
    "sub2=int(input(\"ENter the Marks of 2nd Subject\"))\n",
    "sub3=int(input(\"ENter the Marks of 3rd Subject\"))\n",
    "sub4=int(input(\"ENter the Marks of 4th Subject\"))\n",
    "sub5=int(input(\"ENter the Marks of 5th Subject\"))\n",
    "total=sub1+sub2+sub3+sub4+sub5\n",
    "print(\"Your Total Marks are {}\".format(total))\n",
    "pcntage=(total/500)*100\n",
    "print(\"Your Percentage is {}%\".format(pcntage))\n",
    "if(pcntage>90):\n",
    "    print(\"You achieve A+ Grade\")\n",
    "elif(pcntage>80 and pcntage<90):\n",
    "    print(\"You achieve A Grade\")\n",
    "elif(pcntage>70 and pcntage<80):\n",
    "    print(\"You achieve B Grade\")\n",
    "elif(pcntage>60 and pcntage<70):\n",
    "    print(\"You achieve C Grade\")\n",
    "else:\n",
    "    print(\"Sorry! You are fail\")\n"
   ]
  },
  {
   "cell_type": "code",
   "execution_count": 2,
   "metadata": {},
   "outputs": [
    {
     "name": "stdout",
     "output_type": "stream",
     "text": [
      "Enter a number to Check it is Even or Odd55\n",
      "55 is Odd\n"
     ]
    }
   ],
   "source": [
    "#Question:2\n",
    "num=int(input(\"Enter a number to Check it is Even or Odd\"))\n",
    "if num%2==0:\n",
    "    print(\"{} is Even\".format(num))\n",
    "else:\n",
    "    print(\"{} is Odd\".format(num))"
   ]
  },
  {
   "cell_type": "code",
   "execution_count": 3,
   "metadata": {},
   "outputs": [
    {
     "name": "stdout",
     "output_type": "stream",
     "text": [
      "6\n"
     ]
    }
   ],
   "source": [
    "#Question:3\n",
    "list1=[2,4,6,7,'Sum',\"Shahzad\"]\n",
    "print(len(list1))"
   ]
  },
  {
   "cell_type": "code",
   "execution_count": 4,
   "metadata": {},
   "outputs": [
    {
     "name": "stdout",
     "output_type": "stream",
     "text": [
      "19\n"
     ]
    }
   ],
   "source": [
    "#Question:4\n",
    "sum=0\n",
    "for item in list1:\n",
    "    if isinstance(item,int):\n",
    "           sum+=item\n",
    "print(sum)"
   ]
  },
  {
   "cell_type": "code",
   "execution_count": 5,
   "metadata": {},
   "outputs": [
    {
     "name": "stdout",
     "output_type": "stream",
     "text": [
      "1000\n"
     ]
    }
   ],
   "source": [
    "#Question:5\n",
    "list2=[2,5,66,78,23,88,1000]\n",
    "print(max(list2))"
   ]
  },
  {
   "cell_type": "code",
   "execution_count": 6,
   "metadata": {},
   "outputs": [
    {
     "name": "stdout",
     "output_type": "stream",
     "text": [
      "1\n",
      "1\n",
      "2\n",
      "3\n"
     ]
    }
   ],
   "source": [
    "#question:6\n",
    "a = [1, 1, 2, 3, 5, 8, 13, 21, 34, 55, 89]\n",
    "for item in a:\n",
    "    if (item<5):\n",
    "        print(item)"
   ]
  },
  {
   "cell_type": "code",
   "execution_count": null,
   "metadata": {},
   "outputs": [],
   "source": []
  }
 ],
 "metadata": {
  "kernelspec": {
   "display_name": "Python 3",
   "language": "python",
   "name": "python3"
  },
  "language_info": {
   "codemirror_mode": {
    "name": "ipython",
    "version": 3
   },
   "file_extension": ".py",
   "mimetype": "text/x-python",
   "name": "python",
   "nbconvert_exporter": "python",
   "pygments_lexer": "ipython3",
   "version": "3.7.4"
  }
 },
 "nbformat": 4,
 "nbformat_minor": 2
}
