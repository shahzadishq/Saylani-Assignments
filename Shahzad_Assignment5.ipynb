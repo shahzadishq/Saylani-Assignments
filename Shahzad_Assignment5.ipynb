{
 "cells": [
  {
   "cell_type": "code",
   "execution_count": 1,
   "metadata": {},
   "outputs": [
    {
     "name": "stdout",
     "output_type": "stream",
     "text": [
      "Enter a Postive number to find its facctorial0\n",
      "1\n"
     ]
    }
   ],
   "source": [
    "#Question1:\n",
    "def fact(num):\n",
    "    if num<0:\n",
    "        return \"Enter a Postive number\"\n",
    "    elif num == 1 or num==0:\n",
    "        return 1\n",
    "    else:\n",
    "        return num*fact(num-1)\n",
    "    \n",
    "number=int(input(\"Enter a Postive number to find its facctorial\"))\n",
    "\n",
    "print(fact(number))"
   ]
  },
  {
   "cell_type": "code",
   "execution_count": 4,
   "metadata": {},
   "outputs": [
    {
     "name": "stdout",
     "output_type": "stream",
     "text": [
      "You have 2 Upper Character\n",
      "You have 5 Lower Character\n",
      "You have 2 SPace Character\n"
     ]
    }
   ],
   "source": [
    "#Question:2\n",
    "def allcases(string):\n",
    "    upper=0\n",
    "    lower=0\n",
    "    space=0\n",
    "    for char in string:\n",
    "        if char>='A' and char<='Z':\n",
    "            upper=upper+1\n",
    "        elif char>='a' and char <='z':\n",
    "            lower=lower+1\n",
    "        elif char==\" \":\n",
    "            space+=1\n",
    "    print(\"You have {} Upper Character\".format(upper))\n",
    "    print(\"You have {} Lower Character\".format(lower))\n",
    "    print(\"You have {} SPace Character\".format(space))\n",
    "allcases(\"I am Hero\")"
   ]
  },
  {
   "cell_type": "code",
   "execution_count": 5,
   "metadata": {},
   "outputs": [
    {
     "name": "stdout",
     "output_type": "stream",
     "text": [
      "22\n",
      "44\n",
      "66\n",
      "88\n"
     ]
    }
   ],
   "source": [
    "#Question:3\n",
    "list1=[22,33,44,55,66,77,88]\n",
    "for item in list1:\n",
    "    if item%2==0:\n",
    "        print(item)"
   ]
  },
  {
   "cell_type": "code",
   "execution_count": 9,
   "metadata": {},
   "outputs": [
    {
     "name": "stdout",
     "output_type": "stream",
     "text": [
      "Enter any Palindrome StringMQM\n",
      "This is Palindrome\n"
     ]
    }
   ],
   "source": [
    "#Question:4\n",
    "def reverse(string):\n",
    "    return string[::-1]\n",
    "def palindrome(string):\n",
    "    rev=reverse(string)\n",
    "    if rev==string:\n",
    "        return True\n",
    "    else:\n",
    "        return False\n",
    "string=input(\"Enter any Palindrome String\" )\n",
    "ans=palindrome(string)\n",
    "if ans:\n",
    "    print(\"This is Palindrome\")\n",
    "else:\n",
    "    print(\"This is not\")"
   ]
  },
  {
   "cell_type": "code",
   "execution_count": 12,
   "metadata": {},
   "outputs": [
    {
     "name": "stdout",
     "output_type": "stream",
     "text": [
      "Enter a number to check it is prime or not5\n",
      "This is Prime\n"
     ]
    }
   ],
   "source": [
    "#Question:5\n",
    "def prime(number):\n",
    "    count=0\n",
    "    for i in range(1,number):\n",
    "        if number%i==0:\n",
    "            count+=1\n",
    "    if count>1:\n",
    "        print(\"This is not a Prime\")\n",
    "    else:\n",
    "        print(\"This is Prime\")\n",
    "number=int(input(\"Enter a number to check it is prime or not\"))\n",
    "prime(number)"
   ]
  },
  {
   "cell_type": "code",
   "execution_count": 13,
   "metadata": {},
   "outputs": [
    {
     "name": "stdout",
     "output_type": "stream",
     "text": [
      "Enter Your UserName shahz\n",
      "Enter from where you have done your Shopping karachi\n",
      "Enter the item What you have Purchased or press q to Quit Spinner\n",
      "Enter the item What you have Purchased or press q to Quit Colgate\n",
      "Enter the item What you have Purchased or press q to Quit bursh\n",
      "Enter the item What you have Purchased or press q to Quit q\n",
      "Mr.shahz have done his Shopping from karachi.He has purchased the following items\n",
      "\n",
      "['Spinner', 'Colgate', 'bursh', 'q']\n",
      "None\n"
     ]
    }
   ],
   "source": [
    "#Question:6\n",
    "def shopping(name,city,*params):\n",
    "    print(\"Mr.\"+name+\" have done his Shopping from \"+city+\".He has purchased the following items\\n\")\n",
    "    for param in params:\n",
    "        print(param)\n",
    "user=input(\"Enter Your UserName \")\n",
    "city=input(\"Enter from where you have done your Shopping \") \n",
    "user_input=\"\"\n",
    "list1=[]\n",
    "while(user_input!=\"q\"):\n",
    "    user_input=input(\"Enter the item What you have Purchased or press q to Quit \")\n",
    "    list1.append(user_input)\n",
    "result=shopping(user,city,list1)\n",
    "print(result)"
   ]
  },
  {
   "cell_type": "code",
   "execution_count": null,
   "metadata": {},
   "outputs": [],
   "source": []
  },
  {
   "cell_type": "code",
   "execution_count": null,
   "metadata": {},
   "outputs": [],
   "source": []
  }
 ],
 "metadata": {
  "kernelspec": {
   "display_name": "Python 3",
   "language": "python",
   "name": "python3"
  },
  "language_info": {
   "codemirror_mode": {
    "name": "ipython",
    "version": 3
   },
   "file_extension": ".py",
   "mimetype": "text/x-python",
   "name": "python",
   "nbconvert_exporter": "python",
   "pygments_lexer": "ipython3",
   "version": "3.7.4"
  }
 },
 "nbformat": 4,
 "nbformat_minor": 2
}
