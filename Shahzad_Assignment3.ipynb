{
 "cells": [
  {
   "cell_type": "code",
   "execution_count": 1,
   "metadata": {},
   "outputs": [
    {
     "name": "stdout",
     "output_type": "stream",
     "text": [
      "Welcome to Python Calulator\n",
      "Enter the First Number4\n",
      "Enter the second number5\n",
      "1.Add\n",
      "2.Subtract\n",
      "3.Multiply\n",
      "4.Divide\n",
      "5.Power\n",
      "Which Operation DO you want to Perform Select 1,2,3,43\n",
      "The Multiplication of 4 and 5 is 20\n",
      "Enter Correct Operator\n"
     ]
    }
   ],
   "source": [
    "print(\"Welcome to Python Calulator\")\n",
    "num1=int(input(\"Enter the First Number\"))\n",
    "num2=int(input(\"Enter the second number\"))\n",
    "print(\"1.Add\")\n",
    "print(\"2.Subtract\")\n",
    "print(\"3.Multiply\")\n",
    "print(\"4.Divide\")\n",
    "print(\"5.Power\")\n",
    "op=input(\"Which Operation DO you want to Perform Select 1,2,3,4\")\n",
    "if op==\"1\":\n",
    "    print(\"The Sum of {} and {} is {}\".format(num1,num2,(num1+num2)))\n",
    "if op==\"2\":\n",
    "    print(\"The Subtraction of {} and {} is {}\".format(num1,num2,(num1-num2)))\n",
    "if op==\"3\":\n",
    "    print(\"The Multiplication of {} and {} is {}\".format(num1,num2,(num1*num2)))\n",
    "if op==\"4\":\n",
    "    print(\"The Division of {} and {} is {}\".format(num1,num2,(num1/num2)))\n",
    "if op==\"5\":\n",
    "    print(\"The Power of {} to  {} is {}\".format(num1,num2,(num1**num2)))\n",
    "else:\n",
    "    print(\"Enter Correct Operator\")"
   ]
  },
  {
   "cell_type": "code",
   "execution_count": 2,
   "metadata": {},
   "outputs": [
    {
     "name": "stdout",
     "output_type": "stream",
     "text": [
      "44\n",
      "98\n",
      "30\n"
     ]
    }
   ],
   "source": [
    "#QUESTION:2\n",
    "list1=[44,'Karachi',44.44,'Saylani',98,30]\n",
    "for item in list1:\n",
    "    if isinstance(item,int):\n",
    "        print(item)"
   ]
  },
  {
   "cell_type": "code",
   "execution_count": 3,
   "metadata": {},
   "outputs": [
    {
     "name": "stdout",
     "output_type": "stream",
     "text": [
      "{1: 'Karachi', 2: 'Islamabad'}\n",
      "{1: 'Karachi', 2: 'Islamabad', 3: 'Lahore'}\n"
     ]
    }
   ],
   "source": [
    "#Question:3\n",
    "dict1={1:\"Karachi\",\n",
    "      2:\"Islamabad\"}\n",
    "print(dict1)\n",
    "dict1[3]=\"Lahore\"\n",
    "print(dict1)"
   ]
  },
  {
   "cell_type": "code",
   "execution_count": 4,
   "metadata": {},
   "outputs": [
    {
     "name": "stdout",
     "output_type": "stream",
     "text": [
      "6\n"
     ]
    }
   ],
   "source": [
    "#Question:4\n",
    "sum=0\n",
    "for key in dict1:\n",
    "    if isinstance(key,int):\n",
    "        sum+=key\n",
    "print(sum)"
   ]
  },
  {
   "cell_type": "code",
   "execution_count": 5,
   "metadata": {},
   "outputs": [
    {
     "data": {
      "text/plain": [
       "{1, 4, 5}"
      ]
     },
     "execution_count": 5,
     "metadata": {},
     "output_type": "execute_result"
    }
   ],
   "source": [
    "#Question:5\n",
    "\n",
    "l = [1,2,3,4,4,5,5,6,1]\n",
    "set([x for x in l if l.count(x) > 1])\n",
    "set([1, 4, 5])"
   ]
  },
  {
   "cell_type": "code",
   "execution_count": 6,
   "metadata": {},
   "outputs": [
    {
     "name": "stdout",
     "output_type": "stream",
     "text": [
      "Enter the key you want to Check1\n",
      "Yes  key exists in dict\n"
     ]
    }
   ],
   "source": [
    "#Question:6\n",
    "key_check=input(\"Enter the key you want to Check\")\n",
    "dict1={\"1\": 'Karachi', \"2\": 'Islamabad', \"3\": 'Lahore'}\n",
    "if dict1.get(key_check) != None:\n",
    "    print(\"Yes  key exists in dict\")    \n",
    "else:\n",
    "    print(\"No  key does not exists in dict\")"
   ]
  },
  {
   "cell_type": "code",
   "execution_count": null,
   "metadata": {},
   "outputs": [],
   "source": []
  }
 ],
 "metadata": {
  "kernelspec": {
   "display_name": "Python 3",
   "language": "python",
   "name": "python3"
  },
  "language_info": {
   "codemirror_mode": {
    "name": "ipython",
    "version": 3
   },
   "file_extension": ".py",
   "mimetype": "text/x-python",
   "name": "python",
   "nbconvert_exporter": "python",
   "pygments_lexer": "ipython3",
   "version": "3.7.4"
  }
 },
 "nbformat": 4,
 "nbformat_minor": 2
}
